{
 "cells": [
  {
   "cell_type": "markdown",
   "id": "7613c9f5",
   "metadata": {},
   "source": [
    "# Natural Language Processing"
   ]
  },
  {
   "cell_type": "code",
   "execution_count": 1,
   "id": "0febea5e",
   "metadata": {},
   "outputs": [],
   "source": [
    "import nltk"
   ]
  },
  {
   "cell_type": "code",
   "execution_count": 2,
   "id": "4f34ca47",
   "metadata": {},
   "outputs": [
    {
     "name": "stderr",
     "output_type": "stream",
     "text": [
      "[nltk_data] Downloading package punkt to\n",
      "[nltk_data]     /Users/yaswanthganapathi/nltk_data...\n",
      "[nltk_data]   Package punkt is already up-to-date!\n"
     ]
    },
    {
     "data": {
      "text/plain": [
       "True"
      ]
     },
     "execution_count": 2,
     "metadata": {},
     "output_type": "execute_result"
    }
   ],
   "source": [
    "nltk.download(\"punkt\")"
   ]
  },
  {
   "cell_type": "markdown",
   "id": "e6f6646b",
   "metadata": {},
   "source": [
    "# Text to Audio"
   ]
  },
  {
   "cell_type": "code",
   "execution_count": 3,
   "id": "b123933a",
   "metadata": {},
   "outputs": [],
   "source": [
    "from newspaper import Article\n",
    "from bs4 import BeautifulSoup\n",
    "import nltk\n",
    "from gtts import gTTS\n",
    "import os\n",
    "from TTS.api import TTS"
   ]
  },
  {
   "cell_type": "markdown",
   "id": "448dd851",
   "metadata": {},
   "source": [
    "This code contains the functionality to convert a stock-related article from the web into an audio file using Python. It starts by initializing an `Article` object from the `newspaper3k` library with the URL of an Amazon stock article. The code downloads the content, parses it to extract the text, and applies natural language processing (NLP) to process the text. The extracted text (`mytext`) is then converted to speech using the `gTTS` (Google Text-to-Speech) library, specifying English as the language and a normal speaking speed. The resulting audio file, \"AMAZON_Stock.mp3,\" is saved locally and played automatically using a system command. This code streamlines the conversion of textual data into audio format for enhanced accessibility or ease of use."
   ]
  },
  {
   "cell_type": "code",
   "execution_count": 4,
   "id": "e2163df4",
   "metadata": {},
   "outputs": [
    {
     "name": "stderr",
     "output_type": "stream",
     "text": [
      "sh: start: command not found\n"
     ]
    },
    {
     "data": {
      "text/plain": [
       "32512"
      ]
     },
     "execution_count": 4,
     "metadata": {},
     "output_type": "execute_result"
    }
   ],
   "source": [
    "article=Article(\"https://stockanalysis.com/stocks/amzn/\")\n",
    "article.download()\n",
    "article.parse()\n",
    "article.nlp()\n",
    "mytext=article.text\n",
    "language=\"en\"\n",
    "myobj=gTTS(text=mytext,lang=language,slow=False)\n",
    "myobj.save(\"AMAZON_Stock.mp3\")\n",
    "os.system(\"start AMAZON_Stock.mp3\")"
   ]
  },
  {
   "cell_type": "markdown",
   "id": "be7da05b",
   "metadata": {},
   "source": [
    "This part of the code demonstrates the process of converting a stock-related article into an audio file with a customized voice using Python, leveraging advanced text-to-speech capabilities. It starts by creating an `Article` object from the `newspaper3k` library and pointing to the URL of an Amazon stock article. The code downloads the article, parses its content, and applies natural language processing (NLP) to extract and process the text. The extracted text (`mytext`) is initially prepared for text-to-speech conversion using the `gTTS` (Google Text-to-Speech) library. Additionally, it employs the `TTS` library with the model `tts_models/multilingual/multi-dataset/xtts_v2`, which supports multilingual and multi-dataset configurations for high-quality speech synthesis. A cloned voice, specified in the WAV file (`Proff_Jeff_Voice.wav`), is used to produce a personalized audio output. The final audio file, named \"Amazon_Stock_data_Cloned_J.mp3,\" is created and played automatically using a system command. This integration of sophisticated TTS models and voice cloning enhances the accessibility and personalization of audio content generation."
   ]
  },
  {
   "cell_type": "code",
   "execution_count": 7,
   "id": "194fe8bb",
   "metadata": {},
   "outputs": [
    {
     "name": "stdout",
     "output_type": "stream",
     "text": [
      " > tts_models/multilingual/multi-dataset/xtts_v2 is already downloaded.\n",
      " > Using model: xtts\n"
     ]
    },
    {
     "name": "stderr",
     "output_type": "stream",
     "text": [
      "/Users/yaswanthganapathi/anaconda3/lib/python3.11/site-packages/TTS/tts/layers/xtts/xtts_manager.py:5: FutureWarning: You are using `torch.load` with `weights_only=False` (the current default value), which uses the default pickle module implicitly. It is possible to construct malicious pickle data which will execute arbitrary code during unpickling (See https://github.com/pytorch/pytorch/blob/main/SECURITY.md#untrusted-models for more details). In a future release, the default value for `weights_only` will be flipped to `True`. This limits the functions that could be executed during unpickling. Arbitrary objects will no longer be allowed to be loaded via this mode unless they are explicitly allowlisted by the user via `torch.serialization.add_safe_globals`. We recommend you start setting `weights_only=True` for any use case where you don't have full control of the loaded file. Please open an issue on GitHub for any issues related to this experimental feature.\n",
      "  self.speakers = torch.load(speaker_file_path)\n",
      "/Users/yaswanthganapathi/anaconda3/lib/python3.11/site-packages/TTS/utils/io.py:54: FutureWarning: You are using `torch.load` with `weights_only=False` (the current default value), which uses the default pickle module implicitly. It is possible to construct malicious pickle data which will execute arbitrary code during unpickling (See https://github.com/pytorch/pytorch/blob/main/SECURITY.md#untrusted-models for more details). In a future release, the default value for `weights_only` will be flipped to `True`. This limits the functions that could be executed during unpickling. Arbitrary objects will no longer be allowed to be loaded via this mode unless they are explicitly allowlisted by the user via `torch.serialization.add_safe_globals`. We recommend you start setting `weights_only=True` for any use case where you don't have full control of the loaded file. Please open an issue on GitHub for any issues related to this experimental feature.\n",
      "  return torch.load(f, map_location=map_location, **kwargs)\n",
      "GPT2InferenceModel has generative capabilities, as `prepare_inputs_for_generation` is explicitly overwritten. However, it doesn't directly inherit from `GenerationMixin`. From 👉v4.50👈 onwards, `PreTrainedModel` will NOT inherit from `GenerationMixin`, and this model will lose the ability to call `generate` and other related functions.\n",
      "  - If you're using `trust_remote_code=True`, you can get rid of this warning by loading the model with an auto class. See https://huggingface.co/docs/transformers/en/model_doc/auto#auto-classes\n",
      "  - If you are the owner of the model architecture code, please modify your model class such that it inherits from `GenerationMixin` (after `PreTrainedModel`, otherwise you'll get an exception).\n",
      "  - If you are not the owner of the model architecture class, please contact the model code owner to update it.\n"
     ]
    },
    {
     "name": "stdout",
     "output_type": "stream",
     "text": [
      " > Text splitted to sentences.\n",
      "['About AMZN', 'Amazon.com, Inc. engages in the retail sale of consumer products, advertising, and subscriptions service through online and physical stores in North America and internationally.', 'The company operates through three segments: North America, International, and Amazon Web Services (AWS).', 'It also manufactures and sells electronic devices, including Kindle, Fire tablets, Fire TVs, Echo, Ring, Blink, and eero; and develops and produces media content.', 'In addition, the company offers programs that enable sellers to sell their products in its stores; and ... [Read more]']\n"
     ]
    },
    {
     "name": "stderr",
     "output_type": "stream",
     "text": [
      "The attention mask is not set and cannot be inferred from input because pad token is same as eos token. As a consequence, you may observe unexpected behavior. Please pass your input's `attention_mask` to obtain reliable results.\n"
     ]
    },
    {
     "name": "stdout",
     "output_type": "stream",
     "text": [
      " > Processing time: 82.30045580863953\n",
      " > Real-time factor: 1.679678869474733\n"
     ]
    },
    {
     "name": "stderr",
     "output_type": "stream",
     "text": [
      "sh: start: command not found\n"
     ]
    },
    {
     "data": {
      "text/plain": [
       "32512"
      ]
     },
     "execution_count": 7,
     "metadata": {},
     "output_type": "execute_result"
    }
   ],
   "source": [
    "article=Article(\"https://stockanalysis.com/stocks/amzn/\")\n",
    "article.download()\n",
    "article.parse()\n",
    "article.nlp()\n",
    "mytext=article.text\n",
    "language=\"en\"\n",
    "myobj=gTTS(text=mytext,lang=language,slow=False)\n",
    "tts = TTS(\"tts_models/multilingual/multi-dataset/xtts_v2\")\n",
    "speaker_wav = \"Proff_Jeff_Voice.wav\"\n",
    "output_path = \"Amazon_Stock_data_Cloned_J.mp3\"\n",
    "tts.tts_to_file(text=mytext, file_path=output_path, speaker_wav=speaker_wav, language=language)\n",
    "os.system(f\"start {output_path}\")"
   ]
  },
  {
   "cell_type": "code",
   "execution_count": null,
   "id": "9c23571a",
   "metadata": {},
   "outputs": [],
   "source": []
  }
 ],
 "metadata": {
  "kernelspec": {
   "display_name": "Python 3 (ipykernel)",
   "language": "python",
   "name": "python3"
  },
  "language_info": {
   "codemirror_mode": {
    "name": "ipython",
    "version": 3
   },
   "file_extension": ".py",
   "mimetype": "text/x-python",
   "name": "python",
   "nbconvert_exporter": "python",
   "pygments_lexer": "ipython3",
   "version": "3.11.4"
  }
 },
 "nbformat": 4,
 "nbformat_minor": 5
}
