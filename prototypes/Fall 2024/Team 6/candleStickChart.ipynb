{
 "cells": [
  {
   "cell_type": "code",
   "execution_count": 1,
   "id": "b8acbfdd",
   "metadata": {},
   "outputs": [],
   "source": [
    "import yfinance as yf\n",
    "import plotly.graph_objects as go\n",
    "import dash\n",
    "from dash import dcc\n",
    "from dash import html\n",
    "from dash.dependencies import Input, Output\n",
    "import pandas as pd\n",
    "from datetime import datetime, timedelta"
   ]
  },
  {
   "cell_type": "code",
   "execution_count": 3,
   "id": "ce182aa6",
   "metadata": {},
   "outputs": [],
   "source": [
    "stocks = [\n",
    "            {'label': 'Apple (AAPL)', 'value': 'AAPL'},\n",
    "            {'label': 'Tesla (TSLA)', 'value': 'TSLA'},\n",
    "            {'label': 'Amazon (AMZN)', 'value': 'AMZN'},\n",
    "        ]\n",
    "\n",
    "def fetch_stocks():\n",
    "    data = {}\n",
    "\n",
    "    for i in stocks:\n",
    "        data[i['value']] = yf.download(i['value'], start='2023-10-12', end='2024-10-12')\n",
    "    return data"
   ]
  },
  {
   "cell_type": "code",
   "execution_count": 5,
   "id": "0a3ac992",
   "metadata": {},
   "outputs": [
    {
     "name": "stderr",
     "output_type": "stream",
     "text": [
      "[*********************100%***********************]  1 of 1 completed\n",
      "[*********************100%***********************]  1 of 1 completed\n",
      "[*********************100%***********************]  1 of 1 completed\n"
     ]
    },
    {
     "data": {
      "text/html": [
       "\n",
       "        <iframe\n",
       "            width=\"100%\"\n",
       "            height=\"650\"\n",
       "            src=\"http://127.0.0.1:3000/\"\n",
       "            frameborder=\"0\"\n",
       "            allowfullscreen\n",
       "            \n",
       "        ></iframe>\n",
       "        "
      ],
      "text/plain": [
       "<IPython.lib.display.IFrame at 0x2203cda0250>"
      ]
     },
     "metadata": {},
     "output_type": "display_data"
    }
   ],
   "source": [
    "app = dash.Dash(__name__)\n",
    "\n",
    "data = fetch_stocks()\n",
    "app.layout = html.Div([\n",
    "    html.H1(\"Stocks on Candles\"),\n",
    "    \n",
    "    # Stock selection dropdown\n",
    "    dcc.Dropdown(\n",
    "        id='stock-selector',\n",
    "        options=stocks,\n",
    "        value='AAPL',\n",
    "        style={'width': '200px', 'margin-bottom': '20px'}\n",
    "    ),\n",
    "    \n",
    "    # Adding Candlestick chart to dash\n",
    "    dcc.Graph(id='candlestick-chart'),\n",
    "    \n",
    "    # Date range slider\n",
    "    dcc.RangeSlider(\n",
    "        id='date-range-slider',\n",
    "        min=0,\n",
    "        max=100,\n",
    "        step=1,\n",
    "        value=[0, 100],\n",
    "        marks={},\n",
    "        allowCross=False\n",
    "    )\n",
    "])\n",
    "\n",
    "@app.callback(\n",
    "    [Output('candlestick-chart', 'figure'),\n",
    "     Output('date-range-slider', 'max'),\n",
    "     Output('date-range-slider', 'marks'),\n",
    "     Output('date-range-slider', 'value')],\n",
    "    [Input('stock-selector', 'value'),\n",
    "     Input('date-range-slider', 'value')]\n",
    ")\n",
    "def update_chart(selected_stock, selected_range):\n",
    "    global data\n",
    "    df = data[selected_stock]\n",
    "\n",
    "    slider_max = len(df) - 1\n",
    "    slider_marks = slider_marks = {i: df.index[i].strftime('%Y-%m-%d') \\\n",
    "                                   for i in range(0, len(df), max(1, len(df) // 10))}\n",
    "    \n",
    "    start_idx, end_idx = selected_range\n",
    "    df_filtered = df.iloc[start_idx:end_idx+1]\n",
    "    \n",
    "    candlestick = go.Candlestick(\n",
    "        x=df_filtered.index,\n",
    "        open=df_filtered['Open'],\n",
    "        high=df_filtered['High'],\n",
    "        low=df_filtered['Low'],\n",
    "        close=df_filtered['Close']\n",
    "    )\n",
    "    \n",
    "    y_min = df_filtered['Low'].min()\n",
    "    y_max = df_filtered['High'].max()\n",
    "    y_range = [y_min - (y_max - y_min) * 0.1, y_max + (y_max - y_min) * 0.1]\n",
    "    \n",
    "    fig = go.Figure(data=[candlestick])\n",
    "    fig.update_layout(\n",
    "        title=f'{selected_stock} Stock Price',\n",
    "        height= 600,\n",
    "        yaxis_title='Price',\n",
    "        xaxis_rangeslider_visible=False,\n",
    "        yaxis_range=y_range\n",
    "    )\n",
    "    slider_value = [start_idx, max(end_idx, slider_max)]\n",
    "    \n",
    "    return fig, slider_max, slider_marks, slider_value\n",
    "\n",
    "if __name__ == '__main__':\n",
    "    app.run_server(port=3000)"
   ]
  }
 ],
 "metadata": {
  "kernelspec": {
   "display_name": "Python 3 (ipykernel)",
   "language": "python",
   "name": "python3"
  },
  "language_info": {
   "codemirror_mode": {
    "name": "ipython",
    "version": 3
   },
   "file_extension": ".py",
   "mimetype": "text/x-python",
   "name": "python",
   "nbconvert_exporter": "python",
   "pygments_lexer": "ipython3",
   "version": "3.11.4"
  }
 },
 "nbformat": 4,
 "nbformat_minor": 5
}
