{
 "cells": [
  {
   "cell_type": "markdown",
   "id": "7613c9f5",
   "metadata": {},
   "source": [
    "# Natural Language Processing"
   ]
  },
  {
   "cell_type": "code",
   "execution_count": 1,
   "id": "0febea5e",
   "metadata": {},
   "outputs": [],
   "source": [
    "import nltk"
   ]
  },
  {
   "cell_type": "code",
   "execution_count": 2,
   "id": "4f34ca47",
   "metadata": {},
   "outputs": [
    {
     "name": "stderr",
     "output_type": "stream",
     "text": [
      "[nltk_data] Downloading package punkt to\n",
      "[nltk_data]     /Users/yaswanthganapathi/nltk_data...\n",
      "[nltk_data]   Package punkt is already up-to-date!\n"
     ]
    },
    {
     "data": {
      "text/plain": [
       "True"
      ]
     },
     "execution_count": 2,
     "metadata": {},
     "output_type": "execute_result"
    }
   ],
   "source": [
    "nltk.download(\"punkt\")"
   ]
  },
  {
   "cell_type": "code",
   "execution_count": 3,
   "id": "9b65d00a",
   "metadata": {},
   "outputs": [],
   "source": [
    "import speech_recognition as sr"
   ]
  },
  {
   "cell_type": "code",
   "execution_count": null,
   "id": "713864ac",
   "metadata": {},
   "outputs": [
    {
     "name": "stdout",
     "output_type": "stream",
     "text": [
      "Speak....\n"
     ]
    }
   ],
   "source": [
    "r=sr.Recognizer()\n",
    "with sr.Microphone() as source:\n",
    "    print(\"Speak....\")\n",
    "    audio=r.listen(source)\n",
    "try:\n",
    "    print(\"Text: \" + r.recognize_sphinx(audio))  # Requires pocketsphinx installation\n",
    "except Exception:\n",
    "    print(\"Its not clear....\")"
   ]
  },
  {
   "cell_type": "markdown",
   "id": "e6f6646b",
   "metadata": {},
   "source": [
    "# Text to Audio"
   ]
  },
  {
   "cell_type": "code",
   "execution_count": 4,
   "id": "b123933a",
   "metadata": {},
   "outputs": [],
   "source": [
    "from newspaper import Article\n",
    "from bs4 import BeautifulSoup\n",
    "import nltk\n",
    "from gtts import gTTS\n",
    "import os\n",
    "from TTS.api import TTS"
   ]
  },
  {
   "cell_type": "code",
   "execution_count": 5,
   "id": "e2163df4",
   "metadata": {},
   "outputs": [
    {
     "name": "stderr",
     "output_type": "stream",
     "text": [
      "sh: start: command not found\n"
     ]
    },
    {
     "data": {
      "text/plain": [
       "32512"
      ]
     },
     "execution_count": 5,
     "metadata": {},
     "output_type": "execute_result"
    }
   ],
   "source": [
    "article=Article(\"https://stockanalysis.com/stocks/nvda/\")\n",
    "article.download()\n",
    "article.parse()\n",
    "article.nlp()\n",
    "mytext=article.text\n",
    "language=\"en\"\n",
    "myobj=gTTS(text=mytext,lang=language,slow=False)\n",
    "myobj.save(\"NVIDIA_Corp_Stock.mp3\")\n",
    "os.system(\"start NVIDIA_Corp_Stock.mp3\")"
   ]
  },
  {
   "cell_type": "code",
   "execution_count": 5,
   "id": "a2c0749f",
   "metadata": {},
   "outputs": [
    {
     "name": "stdout",
     "output_type": "stream",
     "text": [
      "Requirement already satisfied: TTS in /Users/yaswanthganapathi/anaconda3/lib/python3.11/site-packages (0.22.0)\n",
      "Requirement already satisfied: cython>=0.29.30 in /Users/yaswanthganapathi/anaconda3/lib/python3.11/site-packages (from TTS) (3.0.11)\n",
      "Requirement already satisfied: scipy>=1.11.2 in /Users/yaswanthganapathi/anaconda3/lib/python3.11/site-packages (from TTS) (1.14.1)\n",
      "Requirement already satisfied: torch>=2.1 in /Users/yaswanthganapathi/anaconda3/lib/python3.11/site-packages (from TTS) (2.4.1)\n",
      "Requirement already satisfied: torchaudio in /Users/yaswanthganapathi/anaconda3/lib/python3.11/site-packages (from TTS) (2.4.1)\n",
      "Requirement already satisfied: soundfile>=0.12.0 in /Users/yaswanthganapathi/anaconda3/lib/python3.11/site-packages (from TTS) (0.12.1)\n",
      "Requirement already satisfied: librosa>=0.10.0 in /Users/yaswanthganapathi/anaconda3/lib/python3.11/site-packages (from TTS) (0.10.2.post1)\n",
      "Requirement already satisfied: scikit-learn>=1.3.0 in /Users/yaswanthganapathi/anaconda3/lib/python3.11/site-packages (from TTS) (1.3.0)\n",
      "Requirement already satisfied: inflect>=5.6.0 in /Users/yaswanthganapathi/anaconda3/lib/python3.11/site-packages (from TTS) (7.4.0)\n",
      "Requirement already satisfied: tqdm>=4.64.1 in /Users/yaswanthganapathi/anaconda3/lib/python3.11/site-packages (from TTS) (4.65.0)\n",
      "Requirement already satisfied: anyascii>=0.3.0 in /Users/yaswanthganapathi/anaconda3/lib/python3.11/site-packages (from TTS) (0.3.2)\n",
      "Requirement already satisfied: pyyaml>=6.0 in /Users/yaswanthganapathi/anaconda3/lib/python3.11/site-packages (from TTS) (6.0)\n",
      "Requirement already satisfied: fsspec>=2023.6.0 in /Users/yaswanthganapathi/anaconda3/lib/python3.11/site-packages (from TTS) (2024.9.0)\n",
      "Requirement already satisfied: aiohttp>=3.8.1 in /Users/yaswanthganapathi/anaconda3/lib/python3.11/site-packages (from TTS) (3.8.3)\n",
      "Requirement already satisfied: packaging>=23.1 in /Users/yaswanthganapathi/anaconda3/lib/python3.11/site-packages (from TTS) (24.1)\n",
      "Requirement already satisfied: flask>=2.0.1 in /Users/yaswanthganapathi/anaconda3/lib/python3.11/site-packages (from TTS) (2.2.2)\n",
      "Requirement already satisfied: pysbd>=0.3.4 in /Users/yaswanthganapathi/anaconda3/lib/python3.11/site-packages (from TTS) (0.3.4)\n",
      "Requirement already satisfied: umap-learn>=0.5.1 in /Users/yaswanthganapathi/anaconda3/lib/python3.11/site-packages (from TTS) (0.5.6)\n",
      "Requirement already satisfied: pandas<2.0,>=1.4 in /Users/yaswanthganapathi/anaconda3/lib/python3.11/site-packages (from TTS) (1.5.3)\n",
      "Requirement already satisfied: matplotlib>=3.7.0 in /Users/yaswanthganapathi/anaconda3/lib/python3.11/site-packages (from TTS) (3.7.1)\n",
      "Requirement already satisfied: trainer>=0.0.32 in /Users/yaswanthganapathi/anaconda3/lib/python3.11/site-packages (from TTS) (0.0.36)\n",
      "Requirement already satisfied: coqpit>=0.0.16 in /Users/yaswanthganapathi/anaconda3/lib/python3.11/site-packages (from TTS) (0.0.17)\n",
      "Requirement already satisfied: jieba in /Users/yaswanthganapathi/anaconda3/lib/python3.11/site-packages (from TTS) (0.42.1)\n",
      "Requirement already satisfied: pypinyin in /Users/yaswanthganapathi/anaconda3/lib/python3.11/site-packages (from TTS) (0.53.0)\n",
      "Requirement already satisfied: hangul-romanize in /Users/yaswanthganapathi/anaconda3/lib/python3.11/site-packages (from TTS) (0.1.0)\n",
      "Requirement already satisfied: gruut[de,es,fr]==2.2.3 in /Users/yaswanthganapathi/anaconda3/lib/python3.11/site-packages (from TTS) (2.2.3)\n",
      "Requirement already satisfied: jamo in /Users/yaswanthganapathi/anaconda3/lib/python3.11/site-packages (from TTS) (0.4.1)\n",
      "Requirement already satisfied: nltk in /Users/yaswanthganapathi/anaconda3/lib/python3.11/site-packages (from TTS) (3.8.1)\n",
      "Requirement already satisfied: g2pkk>=0.1.1 in /Users/yaswanthganapathi/anaconda3/lib/python3.11/site-packages (from TTS) (0.1.2)\n",
      "Requirement already satisfied: bangla in /Users/yaswanthganapathi/anaconda3/lib/python3.11/site-packages (from TTS) (0.0.2)\n",
      "Requirement already satisfied: bnnumerizer in /Users/yaswanthganapathi/anaconda3/lib/python3.11/site-packages (from TTS) (0.0.2)\n",
      "Requirement already satisfied: bnunicodenormalizer in /Users/yaswanthganapathi/anaconda3/lib/python3.11/site-packages (from TTS) (0.1.7)\n",
      "Requirement already satisfied: einops>=0.6.0 in /Users/yaswanthganapathi/anaconda3/lib/python3.11/site-packages (from TTS) (0.8.0)\n",
      "Requirement already satisfied: transformers>=4.33.0 in /Users/yaswanthganapathi/anaconda3/lib/python3.11/site-packages (from TTS) (4.45.2)\n",
      "Requirement already satisfied: encodec>=0.1.1 in /Users/yaswanthganapathi/anaconda3/lib/python3.11/site-packages (from TTS) (0.1.1)\n",
      "Requirement already satisfied: unidecode>=1.3.2 in /Users/yaswanthganapathi/anaconda3/lib/python3.11/site-packages (from TTS) (1.3.8)\n",
      "Requirement already satisfied: num2words in /Users/yaswanthganapathi/anaconda3/lib/python3.11/site-packages (from TTS) (0.5.13)\n",
      "Requirement already satisfied: spacy[ja]>=3 in /Users/yaswanthganapathi/anaconda3/lib/python3.11/site-packages (from TTS) (3.7.5)\n",
      "Requirement already satisfied: numpy>=1.24.3 in /Users/yaswanthganapathi/anaconda3/lib/python3.11/site-packages (from TTS) (1.24.3)\n",
      "Requirement already satisfied: numba>=0.57.0 in /Users/yaswanthganapathi/anaconda3/lib/python3.11/site-packages (from TTS) (0.57.0)\n",
      "Requirement already satisfied: Babel<3.0.0,>=2.8.0 in /Users/yaswanthganapathi/anaconda3/lib/python3.11/site-packages (from gruut[de,es,fr]==2.2.3->TTS) (2.11.0)\n",
      "Requirement already satisfied: dateparser~=1.1.0 in /Users/yaswanthganapathi/anaconda3/lib/python3.11/site-packages (from gruut[de,es,fr]==2.2.3->TTS) (1.1.8)\n",
      "Requirement already satisfied: gruut-ipa<1.0,>=0.12.0 in /Users/yaswanthganapathi/anaconda3/lib/python3.11/site-packages (from gruut[de,es,fr]==2.2.3->TTS) (0.13.0)\n",
      "Requirement already satisfied: gruut-lang-en~=2.0.0 in /Users/yaswanthganapathi/anaconda3/lib/python3.11/site-packages (from gruut[de,es,fr]==2.2.3->TTS) (2.0.1)\n",
      "Requirement already satisfied: jsonlines~=1.2.0 in /Users/yaswanthganapathi/anaconda3/lib/python3.11/site-packages (from gruut[de,es,fr]==2.2.3->TTS) (1.2.0)\n",
      "Requirement already satisfied: networkx<3.0.0,>=2.5.0 in /Users/yaswanthganapathi/anaconda3/lib/python3.11/site-packages (from gruut[de,es,fr]==2.2.3->TTS) (2.8.8)\n",
      "Requirement already satisfied: python-crfsuite~=0.9.7 in /Users/yaswanthganapathi/anaconda3/lib/python3.11/site-packages (from gruut[de,es,fr]==2.2.3->TTS) (0.9.11)\n",
      "Requirement already satisfied: gruut-lang-de~=2.0.0 in /Users/yaswanthganapathi/anaconda3/lib/python3.11/site-packages (from gruut[de,es,fr]==2.2.3->TTS) (2.0.1)\n",
      "Requirement already satisfied: gruut-lang-es~=2.0.0 in /Users/yaswanthganapathi/anaconda3/lib/python3.11/site-packages (from gruut[de,es,fr]==2.2.3->TTS) (2.0.1)\n",
      "Requirement already satisfied: gruut-lang-fr~=2.0.0 in /Users/yaswanthganapathi/anaconda3/lib/python3.11/site-packages (from gruut[de,es,fr]==2.2.3->TTS) (2.0.2)\n",
      "Requirement already satisfied: attrs>=17.3.0 in /Users/yaswanthganapathi/anaconda3/lib/python3.11/site-packages (from aiohttp>=3.8.1->TTS) (22.1.0)\n",
      "Requirement already satisfied: charset-normalizer<3.0,>=2.0 in /Users/yaswanthganapathi/anaconda3/lib/python3.11/site-packages (from aiohttp>=3.8.1->TTS) (2.0.4)\n",
      "Requirement already satisfied: multidict<7.0,>=4.5 in /Users/yaswanthganapathi/anaconda3/lib/python3.11/site-packages (from aiohttp>=3.8.1->TTS) (6.0.2)\n",
      "Requirement already satisfied: async-timeout<5.0,>=4.0.0a3 in /Users/yaswanthganapathi/anaconda3/lib/python3.11/site-packages (from aiohttp>=3.8.1->TTS) (4.0.2)\n",
      "Requirement already satisfied: yarl<2.0,>=1.0 in /Users/yaswanthganapathi/anaconda3/lib/python3.11/site-packages (from aiohttp>=3.8.1->TTS) (1.8.1)\n",
      "Requirement already satisfied: frozenlist>=1.1.1 in /Users/yaswanthganapathi/anaconda3/lib/python3.11/site-packages (from aiohttp>=3.8.1->TTS) (1.3.3)\n",
      "Requirement already satisfied: aiosignal>=1.1.2 in /Users/yaswanthganapathi/anaconda3/lib/python3.11/site-packages (from aiohttp>=3.8.1->TTS) (1.2.0)\n",
      "Requirement already satisfied: Werkzeug>=2.2.2 in /Users/yaswanthganapathi/anaconda3/lib/python3.11/site-packages (from flask>=2.0.1->TTS) (2.2.3)\n",
      "Requirement already satisfied: Jinja2>=3.0 in /Users/yaswanthganapathi/anaconda3/lib/python3.11/site-packages (from flask>=2.0.1->TTS) (3.1.2)\n",
      "Requirement already satisfied: itsdangerous>=2.0 in /Users/yaswanthganapathi/anaconda3/lib/python3.11/site-packages (from flask>=2.0.1->TTS) (2.0.1)\n",
      "Requirement already satisfied: click>=8.0 in /Users/yaswanthganapathi/anaconda3/lib/python3.11/site-packages (from flask>=2.0.1->TTS) (8.0.4)\n",
      "Requirement already satisfied: more-itertools>=8.5.0 in /Users/yaswanthganapathi/anaconda3/lib/python3.11/site-packages (from inflect>=5.6.0->TTS) (8.12.0)\n",
      "Requirement already satisfied: typeguard>=4.0.1 in /Users/yaswanthganapathi/anaconda3/lib/python3.11/site-packages (from inflect>=5.6.0->TTS) (4.3.0)\n",
      "Requirement already satisfied: audioread>=2.1.9 in /Users/yaswanthganapathi/anaconda3/lib/python3.11/site-packages (from librosa>=0.10.0->TTS) (3.0.1)\n"
     ]
    },
    {
     "name": "stdout",
     "output_type": "stream",
     "text": [
      "Requirement already satisfied: joblib>=0.14 in /Users/yaswanthganapathi/anaconda3/lib/python3.11/site-packages (from librosa>=0.10.0->TTS) (1.2.0)\n",
      "Requirement already satisfied: decorator>=4.3.0 in /Users/yaswanthganapathi/anaconda3/lib/python3.11/site-packages (from librosa>=0.10.0->TTS) (5.1.1)\n",
      "Requirement already satisfied: pooch>=1.1 in /Users/yaswanthganapathi/anaconda3/lib/python3.11/site-packages (from librosa>=0.10.0->TTS) (1.4.0)\n",
      "Requirement already satisfied: soxr>=0.3.2 in /Users/yaswanthganapathi/anaconda3/lib/python3.11/site-packages (from librosa>=0.10.0->TTS) (0.5.0.post1)\n",
      "Requirement already satisfied: typing-extensions>=4.1.1 in /Users/yaswanthganapathi/anaconda3/lib/python3.11/site-packages (from librosa>=0.10.0->TTS) (4.12.2)\n",
      "Requirement already satisfied: lazy-loader>=0.1 in /Users/yaswanthganapathi/anaconda3/lib/python3.11/site-packages (from librosa>=0.10.0->TTS) (0.2)\n",
      "Requirement already satisfied: msgpack>=1.0 in /Users/yaswanthganapathi/anaconda3/lib/python3.11/site-packages (from librosa>=0.10.0->TTS) (1.0.3)\n",
      "Requirement already satisfied: contourpy>=1.0.1 in /Users/yaswanthganapathi/anaconda3/lib/python3.11/site-packages (from matplotlib>=3.7.0->TTS) (1.0.5)\n",
      "Requirement already satisfied: cycler>=0.10 in /Users/yaswanthganapathi/anaconda3/lib/python3.11/site-packages (from matplotlib>=3.7.0->TTS) (0.11.0)\n",
      "Requirement already satisfied: fonttools>=4.22.0 in /Users/yaswanthganapathi/anaconda3/lib/python3.11/site-packages (from matplotlib>=3.7.0->TTS) (4.25.0)\n",
      "Requirement already satisfied: kiwisolver>=1.0.1 in /Users/yaswanthganapathi/anaconda3/lib/python3.11/site-packages (from matplotlib>=3.7.0->TTS) (1.4.4)\n",
      "Requirement already satisfied: pillow>=6.2.0 in /Users/yaswanthganapathi/anaconda3/lib/python3.11/site-packages (from matplotlib>=3.7.0->TTS) (10.2.0)\n",
      "Requirement already satisfied: pyparsing>=2.3.1 in /Users/yaswanthganapathi/anaconda3/lib/python3.11/site-packages (from matplotlib>=3.7.0->TTS) (3.0.9)\n",
      "Requirement already satisfied: python-dateutil>=2.7 in /Users/yaswanthganapathi/anaconda3/lib/python3.11/site-packages (from matplotlib>=3.7.0->TTS) (2.8.2)\n",
      "Requirement already satisfied: docopt>=0.6.2 in /Users/yaswanthganapathi/anaconda3/lib/python3.11/site-packages (from num2words->TTS) (0.6.2)\n",
      "Requirement already satisfied: llvmlite<0.41,>=0.40.0dev0 in /Users/yaswanthganapathi/anaconda3/lib/python3.11/site-packages (from numba>=0.57.0->TTS) (0.40.0)\n",
      "Requirement already satisfied: pytz>=2020.1 in /Users/yaswanthganapathi/anaconda3/lib/python3.11/site-packages (from pandas<2.0,>=1.4->TTS) (2022.7)\n",
      "Requirement already satisfied: threadpoolctl>=2.0.0 in /Users/yaswanthganapathi/anaconda3/lib/python3.11/site-packages (from scikit-learn>=1.3.0->TTS) (2.2.0)\n",
      "Requirement already satisfied: cffi>=1.0 in /Users/yaswanthganapathi/anaconda3/lib/python3.11/site-packages (from soundfile>=0.12.0->TTS) (1.15.1)\n",
      "Requirement already satisfied: spacy-legacy<3.1.0,>=3.0.11 in /Users/yaswanthganapathi/anaconda3/lib/python3.11/site-packages (from spacy[ja]>=3->TTS) (3.0.12)\n",
      "Requirement already satisfied: spacy-loggers<2.0.0,>=1.0.0 in /Users/yaswanthganapathi/anaconda3/lib/python3.11/site-packages (from spacy[ja]>=3->TTS) (1.0.5)\n",
      "Requirement already satisfied: murmurhash<1.1.0,>=0.28.0 in /Users/yaswanthganapathi/anaconda3/lib/python3.11/site-packages (from spacy[ja]>=3->TTS) (1.0.10)\n",
      "Requirement already satisfied: cymem<2.1.0,>=2.0.2 in /Users/yaswanthganapathi/anaconda3/lib/python3.11/site-packages (from spacy[ja]>=3->TTS) (2.0.8)\n",
      "Requirement already satisfied: preshed<3.1.0,>=3.0.2 in /Users/yaswanthganapathi/anaconda3/lib/python3.11/site-packages (from spacy[ja]>=3->TTS) (3.0.9)\n",
      "Requirement already satisfied: thinc<8.3.0,>=8.2.2 in /Users/yaswanthganapathi/anaconda3/lib/python3.11/site-packages (from spacy[ja]>=3->TTS) (8.2.5)\n",
      "Requirement already satisfied: wasabi<1.2.0,>=0.9.1 in /Users/yaswanthganapathi/anaconda3/lib/python3.11/site-packages (from spacy[ja]>=3->TTS) (1.1.3)\n",
      "Requirement already satisfied: srsly<3.0.0,>=2.4.3 in /Users/yaswanthganapathi/anaconda3/lib/python3.11/site-packages (from spacy[ja]>=3->TTS) (2.4.8)\n",
      "Requirement already satisfied: catalogue<2.1.0,>=2.0.6 in /Users/yaswanthganapathi/anaconda3/lib/python3.11/site-packages (from spacy[ja]>=3->TTS) (2.0.10)\n",
      "Requirement already satisfied: weasel<0.5.0,>=0.1.0 in /Users/yaswanthganapathi/anaconda3/lib/python3.11/site-packages (from spacy[ja]>=3->TTS) (0.4.1)\n",
      "Requirement already satisfied: typer<1.0.0,>=0.3.0 in /Users/yaswanthganapathi/anaconda3/lib/python3.11/site-packages (from spacy[ja]>=3->TTS) (0.9.0)\n",
      "Requirement already satisfied: requests<3.0.0,>=2.13.0 in /Users/yaswanthganapathi/anaconda3/lib/python3.11/site-packages (from spacy[ja]>=3->TTS) (2.31.0)\n",
      "Requirement already satisfied: pydantic!=1.8,!=1.8.1,<3.0.0,>=1.7.4 in /Users/yaswanthganapathi/anaconda3/lib/python3.11/site-packages (from spacy[ja]>=3->TTS) (2.5.3)\n",
      "Requirement already satisfied: setuptools in /Users/yaswanthganapathi/anaconda3/lib/python3.11/site-packages (from spacy[ja]>=3->TTS) (68.0.0)\n",
      "Requirement already satisfied: langcodes<4.0.0,>=3.2.0 in /Users/yaswanthganapathi/anaconda3/lib/python3.11/site-packages (from spacy[ja]>=3->TTS) (3.4.1)\n",
      "Requirement already satisfied: sudachipy!=0.6.1,>=0.5.2 in /Users/yaswanthganapathi/anaconda3/lib/python3.11/site-packages (from spacy[ja]>=3->TTS) (0.6.8)\n",
      "Requirement already satisfied: sudachidict-core>=20211220 in /Users/yaswanthganapathi/anaconda3/lib/python3.11/site-packages (from spacy[ja]>=3->TTS) (20240716)\n",
      "Requirement already satisfied: filelock in /Users/yaswanthganapathi/anaconda3/lib/python3.11/site-packages (from torch>=2.1->TTS) (3.9.0)\n",
      "Requirement already satisfied: sympy in /Users/yaswanthganapathi/anaconda3/lib/python3.11/site-packages (from torch>=2.1->TTS) (1.11.1)\n",
      "Requirement already satisfied: psutil in /Users/yaswanthganapathi/anaconda3/lib/python3.11/site-packages (from trainer>=0.0.32->TTS) (5.9.0)\n",
      "Requirement already satisfied: tensorboard in /Users/yaswanthganapathi/anaconda3/lib/python3.11/site-packages (from trainer>=0.0.32->TTS) (2.16.2)\n",
      "Requirement already satisfied: huggingface-hub<1.0,>=0.23.2 in /Users/yaswanthganapathi/anaconda3/lib/python3.11/site-packages (from transformers>=4.33.0->TTS) (0.25.2)\n",
      "Requirement already satisfied: regex!=2019.12.17 in /Users/yaswanthganapathi/anaconda3/lib/python3.11/site-packages (from transformers>=4.33.0->TTS) (2022.7.9)\n",
      "Requirement already satisfied: safetensors>=0.4.1 in /Users/yaswanthganapathi/anaconda3/lib/python3.11/site-packages (from transformers>=4.33.0->TTS) (0.4.5)\n",
      "Requirement already satisfied: tokenizers<0.21,>=0.20 in /Users/yaswanthganapathi/anaconda3/lib/python3.11/site-packages (from transformers>=4.33.0->TTS) (0.20.0)\n",
      "Requirement already satisfied: pynndescent>=0.5 in /Users/yaswanthganapathi/anaconda3/lib/python3.11/site-packages (from umap-learn>=0.5.1->TTS) (0.5.13)\n",
      "Requirement already satisfied: pycparser in /Users/yaswanthganapathi/anaconda3/lib/python3.11/site-packages (from cffi>=1.0->soundfile>=0.12.0->TTS) (2.21)\n",
      "Requirement already satisfied: tzlocal in /Users/yaswanthganapathi/anaconda3/lib/python3.11/site-packages (from dateparser~=1.1.0->gruut[de,es,fr]==2.2.3->TTS) (5.2)\n",
      "Requirement already satisfied: MarkupSafe>=2.0 in /Users/yaswanthganapathi/anaconda3/lib/python3.11/site-packages (from Jinja2>=3.0->flask>=2.0.1->TTS) (2.1.1)\n",
      "Requirement already satisfied: six in /Users/yaswanthganapathi/anaconda3/lib/python3.11/site-packages (from jsonlines~=1.2.0->gruut[de,es,fr]==2.2.3->TTS) (1.16.0)\n",
      "Requirement already satisfied: language-data>=1.2 in /Users/yaswanthganapathi/anaconda3/lib/python3.11/site-packages (from langcodes<4.0.0,>=3.2.0->spacy[ja]>=3->TTS) (1.2.0)\n",
      "Requirement already satisfied: appdirs in /Users/yaswanthganapathi/anaconda3/lib/python3.11/site-packages (from pooch>=1.1->librosa>=0.10.0->TTS) (1.4.4)\n",
      "Requirement already satisfied: annotated-types>=0.4.0 in /Users/yaswanthganapathi/anaconda3/lib/python3.11/site-packages (from pydantic!=1.8,!=1.8.1,<3.0.0,>=1.7.4->spacy[ja]>=3->TTS) (0.6.0)\n",
      "Requirement already satisfied: pydantic-core==2.14.6 in /Users/yaswanthganapathi/anaconda3/lib/python3.11/site-packages (from pydantic!=1.8,!=1.8.1,<3.0.0,>=1.7.4->spacy[ja]>=3->TTS) (2.14.6)\n"
     ]
    },
    {
     "name": "stdout",
     "output_type": "stream",
     "text": [
      "Requirement already satisfied: idna<4,>=2.5 in /Users/yaswanthganapathi/anaconda3/lib/python3.11/site-packages (from requests<3.0.0,>=2.13.0->spacy[ja]>=3->TTS) (3.4)\n",
      "Requirement already satisfied: urllib3<3,>=1.21.1 in /Users/yaswanthganapathi/anaconda3/lib/python3.11/site-packages (from requests<3.0.0,>=2.13.0->spacy[ja]>=3->TTS) (1.26.16)\n",
      "Requirement already satisfied: certifi>=2017.4.17 in /Users/yaswanthganapathi/anaconda3/lib/python3.11/site-packages (from requests<3.0.0,>=2.13.0->spacy[ja]>=3->TTS) (2024.2.2)\n",
      "Requirement already satisfied: blis<0.8.0,>=0.7.8 in /Users/yaswanthganapathi/anaconda3/lib/python3.11/site-packages (from thinc<8.3.0,>=8.2.2->spacy[ja]>=3->TTS) (0.7.11)\n",
      "Requirement already satisfied: confection<1.0.0,>=0.0.1 in /Users/yaswanthganapathi/anaconda3/lib/python3.11/site-packages (from thinc<8.3.0,>=8.2.2->spacy[ja]>=3->TTS) (0.1.5)\n",
      "Requirement already satisfied: cloudpathlib<1.0.0,>=0.7.0 in /Users/yaswanthganapathi/anaconda3/lib/python3.11/site-packages (from weasel<0.5.0,>=0.1.0->spacy[ja]>=3->TTS) (0.19.0)\n",
      "Requirement already satisfied: smart-open<8.0.0,>=5.2.1 in /Users/yaswanthganapathi/anaconda3/lib/python3.11/site-packages (from weasel<0.5.0,>=0.1.0->spacy[ja]>=3->TTS) (5.2.1)\n",
      "Requirement already satisfied: mpmath>=0.19 in /Users/yaswanthganapathi/anaconda3/lib/python3.11/site-packages (from sympy->torch>=2.1->TTS) (1.3.0)\n",
      "Requirement already satisfied: absl-py>=0.4 in /Users/yaswanthganapathi/anaconda3/lib/python3.11/site-packages (from tensorboard->trainer>=0.0.32->TTS) (2.1.0)\n",
      "Requirement already satisfied: grpcio>=1.48.2 in /Users/yaswanthganapathi/anaconda3/lib/python3.11/site-packages (from tensorboard->trainer>=0.0.32->TTS) (1.62.2)\n",
      "Requirement already satisfied: markdown>=2.6.8 in /Users/yaswanthganapathi/anaconda3/lib/python3.11/site-packages (from tensorboard->trainer>=0.0.32->TTS) (3.4.1)\n",
      "Requirement already satisfied: protobuf!=4.24.0,>=3.19.6 in /Users/yaswanthganapathi/anaconda3/lib/python3.11/site-packages (from tensorboard->trainer>=0.0.32->TTS) (4.25.3)\n",
      "Requirement already satisfied: tensorboard-data-server<0.8.0,>=0.7.0 in /Users/yaswanthganapathi/anaconda3/lib/python3.11/site-packages (from tensorboard->trainer>=0.0.32->TTS) (0.7.2)\n",
      "Requirement already satisfied: marisa-trie>=0.7.7 in /Users/yaswanthganapathi/anaconda3/lib/python3.11/site-packages (from language-data>=1.2->langcodes<4.0.0,>=3.2.0->spacy[ja]>=3->TTS) (1.2.0)\n",
      "Note: you may need to restart the kernel to use updated packages.\n"
     ]
    }
   ],
   "source": [
    "pip install TTS"
   ]
  },
  {
   "cell_type": "code",
   "execution_count": 5,
   "id": "f34b75ec",
   "metadata": {},
   "outputs": [
    {
     "name": "stdout",
     "output_type": "stream",
     "text": [
      " > tts_models/multilingual/multi-dataset/xtts_v2 is already downloaded.\n",
      " > Using model: xtts\n"
     ]
    },
    {
     "name": "stderr",
     "output_type": "stream",
     "text": [
      "/Users/yaswanthganapathi/anaconda3/lib/python3.11/site-packages/TTS/tts/layers/xtts/xtts_manager.py:5: FutureWarning: You are using `torch.load` with `weights_only=False` (the current default value), which uses the default pickle module implicitly. It is possible to construct malicious pickle data which will execute arbitrary code during unpickling (See https://github.com/pytorch/pytorch/blob/main/SECURITY.md#untrusted-models for more details). In a future release, the default value for `weights_only` will be flipped to `True`. This limits the functions that could be executed during unpickling. Arbitrary objects will no longer be allowed to be loaded via this mode unless they are explicitly allowlisted by the user via `torch.serialization.add_safe_globals`. We recommend you start setting `weights_only=True` for any use case where you don't have full control of the loaded file. Please open an issue on GitHub for any issues related to this experimental feature.\n",
      "  self.speakers = torch.load(speaker_file_path)\n",
      "/Users/yaswanthganapathi/anaconda3/lib/python3.11/site-packages/TTS/utils/io.py:54: FutureWarning: You are using `torch.load` with `weights_only=False` (the current default value), which uses the default pickle module implicitly. It is possible to construct malicious pickle data which will execute arbitrary code during unpickling (See https://github.com/pytorch/pytorch/blob/main/SECURITY.md#untrusted-models for more details). In a future release, the default value for `weights_only` will be flipped to `True`. This limits the functions that could be executed during unpickling. Arbitrary objects will no longer be allowed to be loaded via this mode unless they are explicitly allowlisted by the user via `torch.serialization.add_safe_globals`. We recommend you start setting `weights_only=True` for any use case where you don't have full control of the loaded file. Please open an issue on GitHub for any issues related to this experimental feature.\n",
      "  return torch.load(f, map_location=map_location, **kwargs)\n",
      "GPT2InferenceModel has generative capabilities, as `prepare_inputs_for_generation` is explicitly overwritten. However, it doesn't directly inherit from `GenerationMixin`. From 👉v4.50👈 onwards, `PreTrainedModel` will NOT inherit from `GenerationMixin`, and this model will lose the ability to call `generate` and other related functions.\n",
      "  - If you're using `trust_remote_code=True`, you can get rid of this warning by loading the model with an auto class. See https://huggingface.co/docs/transformers/en/model_doc/auto#auto-classes\n",
      "  - If you are the owner of the model architecture code, please modify your model class such that it inherits from `GenerationMixin` (after `PreTrainedModel`, otherwise you'll get an exception).\n",
      "  - If you are not the owner of the model architecture class, please contact the model code owner to update it.\n"
     ]
    },
    {
     "name": "stdout",
     "output_type": "stream",
     "text": [
      " > Text splitted to sentences.\n",
      "['About NVDA', 'NVIDIA Corporation provides graphics and compute and networking solutions in the United States, Taiwan, China, Hong Kong, and internationally.', 'The Graphics segment offers GeForce GPUs for gaming and PCs, the GeForce NOW game streaming service and related infrastructure, and solutions for gaming platforms; Quadro/NVIDIA RTX GPUs for enterprise workstation graphics; virtual GPU or vGPU software for cloud-based visual and virtual computing; automotive platforms for infotainment systems; and Omniverse software for building and operating metaverse a... [Read more]']\n"
     ]
    },
    {
     "name": "stderr",
     "output_type": "stream",
     "text": [
      "The attention mask is not set and cannot be inferred from input because pad token is same as eos token. As a consequence, you may observe unexpected behavior. Please pass your input's `attention_mask` to obtain reliable results.\n"
     ]
    },
    {
     "name": "stdout",
     "output_type": "stream",
     "text": [
      "[!] Warning: The text length exceeds the character limit of 250 for language 'en', this might cause truncated audio.\n",
      " > Processing time: 73.55071830749512\n",
      " > Real-time factor: 1.6488342198864046\n"
     ]
    },
    {
     "name": "stderr",
     "output_type": "stream",
     "text": [
      "sh: start: command not found\n"
     ]
    },
    {
     "data": {
      "text/plain": [
       "32512"
      ]
     },
     "execution_count": 5,
     "metadata": {},
     "output_type": "execute_result"
    }
   ],
   "source": [
    "article = Article(\"https://stockanalysis.com/stocks/nvda/\")\n",
    "article.download()\n",
    "article.parse()\n",
    "mytext = article.text\n",
    "language = \"en\"\n",
    "tts = TTS(\"tts_models/multilingual/multi-dataset/xtts_v2\")\n",
    "speaker_wav = \"Nandhika_Voice.wav\"\n",
    "output_path = \"NVIDIA_Corp_Stock_Cloned_Nandhika.mp3\"\n",
    "tts.tts_to_file(text=mytext, file_path=output_path, speaker_wav=speaker_wav, language=language)\n",
    "os.system(f\"start {output_path}\")"
   ]
  },
  {
   "cell_type": "code",
   "execution_count": 11,
   "id": "194fe8bb",
   "metadata": {},
   "outputs": [
    {
     "name": "stdout",
     "output_type": "stream",
     "text": [
      " > tts_models/multilingual/multi-dataset/xtts_v2 is already downloaded.\n",
      " > Using model: xtts\n",
      " > Text splitted to sentences.\n",
      "['Article 1: Artificial Intelligence  ( AI )  Energy Consumption Is Jumping At a Scary Pace: 2 Stocks That Could Surge Thanks to This Trend Source: Motley Fool Published: 20241016T220000 Summary:  Two companies are set to solve two major problems arising out of the rapid adoption of AI .', \"The proliferation of artificial intelligence has increased the demand for more powerful chips that are being deployed in data centers to train complex large language models (LLMs) Nvidia's graphics processing units (GPUs) have been the chips of choice for AI training and inference .\", 'The second problem that AI data centers are creating is that of higher heat generation .', \"Nvidia's chips have been deployed for training popular AI models such as OpenAI's ChatGPT and Meta Platforms' Llama .\", \"Cloud service providers have been increasingly looking to get their hands on the company's offerings to train even larger models .\", \"As such, Nvidia's AI chips are getting more powerful with each passing generation .\", 'Supermicro has been addressing the issue of higher heat generation in AI data centers with its liquid-cooled server solutions .', 'The company claims that its direct liquid cooling solutions can help achieve up to 40% energy savings and 80% space savings .', \"Supermicro's earnings are forecast to increase at an annual rate of 62% for the next five years.\", '/n  Article 2: Media and Entertainment  ( M&E )  Storage Market to Grow by USD 18.96 Billion  ( 2024-2028 )  as Shift to Digital Advertising Expands, with AI Redefining the Market Landscape - Technavio/n Source: Benzinga/n Published: 20241016T211000 Summary:  Media and Entertainment (M&E) Storage Market to Grow by USD 18.', '96 Billion (2024-2028) as Shift to Digital Advertising Expands, with AI Redefining the Market Landscape - Technavio .', 'Growing shift from traditional to digital advertising channels is driving market growth, with trend towards high broadcasting cost .', 'Threat to data security poses a challenge - Key market players include Adobe Inc.', ', Alphabet Inc. and Amazon.', 'com Inc.', 'The Media and Entertainment (M and E) storage market is experiencing significant growth due to the increasing demand for high-quality digital content in various formats like video, audio, and multimedia files .', 'Trends such as Artificial Intelligence (AI) and Internet of Things (IoT) are driving the need for advanced storage solutions that can handle high definition, 8K media, and real-time streaming .', 'Cloud-based storage, on-premises servers, and tiered storage approach are popular storage technologies for M and E industries .', 'The Media and Entertainment (M and E) storage market is a dynamic and ever-evolving industry that caters to the demands of content creation, distribution, and consumption .', 'Data management is a critical aspect of M and E storage, with archival regulations and data protection mechanisms ensuring data integrity and availability .', 'High resolution formats, such as 4K UHD content and 8K media, require high-performance storage solutions to ensure seamless playback and editing .', \"Technavio's report library consists of more than 17,000 reports and counting, covering 800 technologies .\", 'Their research and analysis focuses on emerging market trends and provides actionable insights to help businesses identify market opportunities and develop effective strategies to optimize their market positions .', '/n Article 3: 1 Wall Street Analyst Thinks Nvidia Stock Is Going to $165.', 'Is It a Buy?', '/n Source: Motley Fool/n Published: 20241016T201202/n Summary:  One Wall Street analyst thinks Nvidia stock can move higher by another 25% from its recent level .', 'Melius Research analyst Ben Reitzes thinks investors should buy the stock and sees it worth $165 per share .', \"Nvidia's CEO Jensen Huang is looking forward to helping to fill a trillion dollars' worth of data center construction .\", 'Nvidia has a hook in for much of that capital spending .', \"It's the thrust of why Reitzes thinks the stock still has plenty of room to run .\"]\n",
      "[!] Warning: The text length exceeds the character limit of 250 for language 'en', this might cause truncated audio.\n",
      "[!] Warning: The text length exceeds the character limit of 250 for language 'en', this might cause truncated audio.\n",
      "[!] Warning: The text length exceeds the character limit of 250 for language 'en', this might cause truncated audio.\n",
      " > Processing time: 676.6299288272858\n",
      " > Real-time factor: 1.9480657251657785\n"
     ]
    },
    {
     "name": "stderr",
     "output_type": "stream",
     "text": [
      "sh: start: command not found\n"
     ]
    },
    {
     "data": {
      "text/plain": [
       "32512"
      ]
     },
     "execution_count": 11,
     "metadata": {},
     "output_type": "execute_result"
    }
   ],
   "source": [
    "Text=\"Article 1: Artificial Intelligence  ( AI )  Energy Consumption Is Jumping At a Scary Pace: 2 Stocks That Could Surge Thanks to This Trend Source: Motley Fool Published: 20241016T220000 Summary:  Two companies are set to solve two major problems arising out of the rapid adoption of AI . The proliferation of artificial intelligence has increased the demand for more powerful chips that are being deployed in data centers to train complex large language models (LLMs) Nvidia's graphics processing units (GPUs) have been the chips of choice for AI training and inference . The second problem that AI data centers are creating is that of higher heat generation .  Nvidia's chips have been deployed for training popular AI models such as OpenAI's ChatGPT and Meta Platforms' Llama . Cloud service providers have been increasingly looking to get their hands on the company's offerings to train even larger models . As such, Nvidia's AI chips are getting more powerful with each passing generation .  Supermicro has been addressing the issue of higher heat generation in AI data centers with its liquid-cooled server solutions . The company claims that its direct liquid cooling solutions can help achieve up to 40% energy savings and 80% space savings . Supermicro's earnings are forecast to increase at an annual rate of 62% for the next five years./n  Article 2: Media and Entertainment  ( M&E )  Storage Market to Grow by USD 18.96 Billion  ( 2024-2028 )  as Shift to Digital Advertising Expands, with AI Redefining the Market Landscape - Technavio/n Source: Benzinga/n Published: 20241016T211000 Summary:  Media and Entertainment (M&E) Storage Market to Grow by USD 18. 96 Billion (2024-2028) as Shift to Digital Advertising Expands, with AI Redefining the Market Landscape - Technavio . Growing shift from traditional to digital advertising channels is driving market growth, with trend towards high broadcasting cost . Threat to data security poses a challenge - Key market players include Adobe Inc. , Alphabet Inc. and Amazon. com Inc.  The Media and Entertainment (M and E) storage market is experiencing significant growth due to the increasing demand for high-quality digital content in various formats like video, audio, and multimedia files . Trends such as Artificial Intelligence (AI) and Internet of Things (IoT) are driving the need for advanced storage solutions that can handle high definition, 8K media, and real-time streaming . Cloud-based storage, on-premises servers, and tiered storage approach are popular storage technologies for M and E industries .  The Media and Entertainment (M and E) storage market is a dynamic and ever-evolving industry that caters to the demands of content creation, distribution, and consumption . Data management is a critical aspect of M and E storage, with archival regulations and data protection mechanisms ensuring data integrity and availability . High resolution formats, such as 4K UHD content and 8K media, require high-performance storage solutions to ensure seamless playback and editing .  Technavio's report library consists of more than 17,000 reports and counting, covering 800 technologies . Their research and analysis focuses on emerging market trends and provides actionable insights to help businesses identify market opportunities and develop effective strategies to optimize their market positions ./n Article 3: 1 Wall Street Analyst Thinks Nvidia Stock Is Going to $165. Is It a Buy?/n Source: Motley Fool/n Published: 20241016T201202/n Summary:  One Wall Street analyst thinks Nvidia stock can move higher by another 25% from its recent level . Melius Research analyst Ben Reitzes thinks investors should buy the stock and sees it worth $165 per share . Nvidia's CEO Jensen Huang is looking forward to helping to fill a trillion dollars' worth of data center construction .  Nvidia has a hook in for much of that capital spending . It's the thrust of why Reitzes thinks the stock still has plenty of room to run .\"\n",
    "language=\"en\"\n",
    "myobj=gTTS(text=text,lang=language,slow=False)\n",
    "mytext = Text\n",
    "language = \"en\"\n",
    "tts = TTS(\"tts_models/multilingual/multi-dataset/xtts_v2\")\n",
    "speaker_wav = \"Proff_Jeff_Voice.wav\"\n",
    "output_path = \"NVIDIA_Summarized_Stock_Cloned_Jeff.mp3\"\n",
    "tts.tts_to_file(text=mytext, file_path=output_path, speaker_wav=speaker_wav, language=language)\n",
    "os.system(f\"start {output_path}\")"
   ]
  },
  {
   "cell_type": "code",
   "execution_count": null,
   "id": "27e792ac",
   "metadata": {},
   "outputs": [],
   "source": []
  }
 ],
 "metadata": {
  "kernelspec": {
   "display_name": "Python 3 (ipykernel)",
   "language": "python",
   "name": "python3"
  },
  "language_info": {
   "codemirror_mode": {
    "name": "ipython",
    "version": 3
   },
   "file_extension": ".py",
   "mimetype": "text/x-python",
   "name": "python",
   "nbconvert_exporter": "python",
   "pygments_lexer": "ipython3",
   "version": "3.11.4"
  }
 },
 "nbformat": 4,
 "nbformat_minor": 5
}
